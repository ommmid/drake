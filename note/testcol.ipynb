{
 "cells": [
  {
   "cell_type": "code",
   "execution_count": 1,
   "metadata": {},
   "outputs": [
    {
     "name": "stderr",
     "output_type": "stream",
     "text": [
      "INFO:drake:Meshcat listening for connections at http://localhost:7005\n"
     ]
    },
    {
     "name": "stdout",
     "output_type": "stream",
     "text": [
      "geomtery:  InputPort[0] (geometry_query) of System ::_ (MultibodyPlant<double>)\n"
     ]
    },
    {
     "ename": "RuntimeError",
     "evalue": "Exception while evaluating SNOPT costs and constraints: 'You've tried evaluating time derivatives or their residuals.\n\nThe provided context doesn't show a connection for the plant's query input port (see MultibodyPlant::get_geometry_query_input_port()). See https://drake.mit.edu/troubleshooting.html#mbp-unconnected-query-object-port for help.'",
     "output_type": "error",
     "traceback": [
      "\u001b[0;31m---------------------------------------------------------------------------\u001b[0m",
      "\u001b[0;31mRuntimeError\u001b[0m                              Traceback (most recent call last)",
      "\u001b[0;32m/tmp/ipykernel_525696/1831924283.py\u001b[0m in \u001b[0;36m<module>\u001b[0;34m\u001b[0m\n\u001b[1;32m     88\u001b[0m \u001b[0;34m\u001b[0m\u001b[0m\n\u001b[1;32m     89\u001b[0m \u001b[0mN\u001b[0m \u001b[0;34m=\u001b[0m \u001b[0;36m10\u001b[0m\u001b[0;34m\u001b[0m\u001b[0;34m\u001b[0m\u001b[0m\n\u001b[0;32m---> 90\u001b[0;31m \u001b[0mdircol_kuka\u001b[0m\u001b[0;34m(\u001b[0m\u001b[0mN\u001b[0m\u001b[0;34m,\u001b[0m \u001b[0mmin_dt\u001b[0m\u001b[0;34m=\u001b[0m\u001b[0;36m0.5\u001b[0m\u001b[0;34m/\u001b[0m\u001b[0mN\u001b[0m\u001b[0;34m,\u001b[0m \u001b[0mmax_dt\u001b[0m\u001b[0;34m=\u001b[0m\u001b[0;36m2.0\u001b[0m\u001b[0;34m/\u001b[0m\u001b[0mN\u001b[0m\u001b[0;34m)\u001b[0m\u001b[0;34m\u001b[0m\u001b[0;34m\u001b[0m\u001b[0m\n\u001b[0m",
      "\u001b[0;32m/tmp/ipykernel_525696/1831924283.py\u001b[0m in \u001b[0;36mdircol_kuka\u001b[0;34m(N, min_dt, max_dt)\u001b[0m\n\u001b[1;32m     85\u001b[0m     \u001b[0;31m# dircol.SetInitialTrajectory(initial_u, initial_trajectory)\u001b[0m\u001b[0;34m\u001b[0m\u001b[0;34m\u001b[0m\u001b[0m\n\u001b[1;32m     86\u001b[0m \u001b[0;34m\u001b[0m\u001b[0m\n\u001b[0;32m---> 87\u001b[0;31m     \u001b[0mresult\u001b[0m \u001b[0;34m=\u001b[0m \u001b[0mSolve\u001b[0m\u001b[0;34m(\u001b[0m\u001b[0mprog\u001b[0m\u001b[0;34m)\u001b[0m\u001b[0;34m\u001b[0m\u001b[0;34m\u001b[0m\u001b[0m\n\u001b[0m\u001b[1;32m     88\u001b[0m \u001b[0;34m\u001b[0m\u001b[0m\n\u001b[1;32m     89\u001b[0m \u001b[0mN\u001b[0m \u001b[0;34m=\u001b[0m \u001b[0;36m10\u001b[0m\u001b[0;34m\u001b[0m\u001b[0;34m\u001b[0m\u001b[0m\n",
      "\u001b[0;31mRuntimeError\u001b[0m: Exception while evaluating SNOPT costs and constraints: 'You've tried evaluating time derivatives or their residuals.\n\nThe provided context doesn't show a connection for the plant's query input port (see MultibodyPlant::get_geometry_query_input_port()). See https://drake.mit.edu/troubleshooting.html#mbp-unconnected-query-object-port for help.'"
     ]
    }
   ],
   "source": [
    "import math\n",
    "import matplotlib.pyplot as plt\n",
    "import numpy as np\n",
    "from pydrake.all import (\n",
    "    Parser,\n",
    "    Rgba,\n",
    "    RigidTransform,\n",
    "    Solve,\n",
    "    Sphere,\n",
    "    StartMeshcat,\n",
    "    DirectCollocation,\n",
    "    MultibodyPlant,\n",
    "    PiecewisePolynomial,\n",
    "    SceneGraph,\n",
    ")\n",
    "\n",
    "from manipulation.meshcat_utils import PublishPositionTrajectory\n",
    "from manipulation.scenarios import AddIiwa, AddPlanarIiwa, AddWsg\n",
    "from underactuated import ConfigureParser, running_as_notebook\n",
    "\n",
    "def dircol_kuka(N, min_dt, max_dt):\n",
    "    meshcat = StartMeshcat()\n",
    "    meshcat.Delete()\n",
    "    \n",
    "    initial_state = [0.40236988, -1.36484125, -0.1, 0.0, 0.0, 0.0]\n",
    "    final_state = [0.60544649, -1.75551969, -0.69582573, 0.0, 0.0, 0.0]\n",
    "\n",
    "    plant = MultibodyPlant(0.0)\n",
    "    scene_graph = SceneGraph()\n",
    "    plant.RegisterAsSourceForSceneGraph(scene_graph)\n",
    "    parser = Parser(plant)\n",
    "    ConfigureParser(parser)\n",
    "    iiwa = parser.AddModelsFromUrl(\n",
    "        \"package://drake_models/iiwa_description/urdf/planar_iiwa14_spheres_dense_elbow_collision.urdf\"\n",
    "    )[0]\n",
    "    plant.WeldFrames(plant.world_frame(), plant.GetFrameByName(\"iiwa_link_0\"))\n",
    "    \n",
    "    assert plant.geometry_source_is_registered()\n",
    "\n",
    "\n",
    "    # wsg = AddWsg(plant, iiwa, roll=0.0, welded=True, sphere=True)\n",
    "    # X_WStart = RigidTransform([0.8, 0, 0.65])\n",
    "    # meshcat.SetObject(\"start\", Sphere(0.02), rgba=Rgba(0.9, 0.1, 0.1, 1))\n",
    "    # meshcat.SetTransform(\"start\", X_WStart)\n",
    "    # X_WGoal = RigidTransform([0.8, 0, 0.4])\n",
    "    # meshcat.SetObject(\"goal\", Sphere(0.02), rgba=Rgba(0.1, 0.9, 0.1, 1))\n",
    "    # meshcat.SetTransform(\"goal\", X_WGoal)\n",
    "\n",
    "    # Set default positions:\n",
    "    # joint 1, 3, 5 and 7 are fixed to make kuka planar\n",
    "    joint_2 = plant.GetMutableJointByName(\"iiwa_joint_2\")\n",
    "    joint_4 = plant.GetMutableJointByName(\"iiwa_joint_4\")\n",
    "    joint_6 = plant.GetMutableJointByName(\"iiwa_joint_6\")\n",
    "    joint_2.set_default_angle(initial_state[0])\n",
    "    joint_4.set_default_angle(initial_state[1])\n",
    "    joint_6.set_default_angle(initial_state[2])\n",
    "\n",
    "    plant.Finalize()\n",
    "    context = plant.CreateDefaultContext()\n",
    "\n",
    "    print('geomtery: ', plant.get_geometry_query_input_port().GetFullDescription() )\n",
    "\n",
    "    dircol = DirectCollocation(\n",
    "        plant, \n",
    "        context,\n",
    "        num_time_samples=N,\n",
    "        minimum_time_step=min_dt,\n",
    "        maximum_time_step=max_dt,\n",
    "        input_port_index = plant.get_actuation_input_port().get_index()\n",
    "    )\n",
    "    prog = dircol.prog()\n",
    "    # dircol.AddEqualTimeIntervalsConstraints()\n",
    "\n",
    "    # prog.AddBoundingBoxConstraint(initial_state, initial_state, dircol.initial_state())\n",
    "    # prog.AddBoundingBoxConstraint(final_state, final_state, dircol.final_state())\n",
    "\n",
    "    # dircol.AddRunningCost(dircol.input()[0] ** 2 + dircol.input()[1] ** 2 + dircol.input()[2] ** 2)\n",
    "    # dircol.AddFinalCost(dircol.time())\n",
    "\n",
    "    initial_trajectory = PiecewisePolynomial.FirstOrderHold(\n",
    "        [0.0, 4.0], np.column_stack((initial_state, final_state))\n",
    "    )  # yapf: disable\n",
    "\n",
    "    # initial_u = PiecewisePolynomial()\n",
    "    # dircol.SetInitialTrajectory(initial_u, initial_trajectory)\n",
    "\n",
    "    result = Solve(prog)\n",
    "    \n",
    "N = 10\n",
    "dircol_kuka(N, min_dt=0.5/N, max_dt=2.0/N)"
   ]
  },
  {
   "cell_type": "code",
   "execution_count": null,
   "metadata": {},
   "outputs": [],
   "source": []
  }
 ],
 "metadata": {
  "kernelspec": {
   "display_name": "Python 3",
   "language": "python",
   "name": "python3"
  },
  "language_info": {
   "codemirror_mode": {
    "name": "ipython",
    "version": 3
   },
   "file_extension": ".py",
   "mimetype": "text/x-python",
   "name": "python",
   "nbconvert_exporter": "python",
   "pygments_lexer": "ipython3",
   "version": "3.10.12"
  }
 },
 "nbformat": 4,
 "nbformat_minor": 2
}
